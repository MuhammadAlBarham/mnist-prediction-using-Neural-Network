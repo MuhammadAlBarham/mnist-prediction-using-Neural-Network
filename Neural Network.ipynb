{
 "cells": [
  {
   "cell_type": "markdown",
   "id": "06be107e",
   "metadata": {},
   "source": [
    "## MNIST dataset prediction using Neural Network"
   ]
  },
  {
   "cell_type": "code",
   "execution_count": 1,
   "id": "1e47e6e8",
   "metadata": {},
   "outputs": [],
   "source": [
    "import tensorflow as tf"
   ]
  },
  {
   "cell_type": "code",
   "execution_count": 2,
   "id": "838640e0",
   "metadata": {},
   "outputs": [],
   "source": [
    "# To prevent the warning from appearinig all the time\n",
    "import os \n",
    "os.environ[\"TF_CPP_MIN_LOG_LEVEL\"] = \"2\""
   ]
  },
  {
   "cell_type": "code",
   "execution_count": 3,
   "id": "37afe9b5",
   "metadata": {},
   "outputs": [
    {
     "name": "stdout",
     "output_type": "stream",
     "text": [
      "Num GPUs Available:  1\n"
     ]
    }
   ],
   "source": [
    "# Check if the GPUS is available for the tf\n",
    "print(\"Num GPUs Available: \", len(tf.config.list_physical_devices('GPU')))"
   ]
  },
  {
   "cell_type": "code",
   "execution_count": 4,
   "id": "2ba55d70",
   "metadata": {},
   "outputs": [],
   "source": [
    "# Import other libraries that will be used \n",
    "from tensorflow import keras\n",
    "import numpy as np\n",
    "import matplotlib.pyplot as plt"
   ]
  },
  {
   "cell_type": "code",
   "execution_count": 5,
   "id": "974f00d5",
   "metadata": {},
   "outputs": [],
   "source": [
    "# Load mnist dataset \n",
    "\n",
    "mnist = keras.datasets.mnist"
   ]
  },
  {
   "cell_type": "code",
   "execution_count": 6,
   "id": "3b3ae7bc",
   "metadata": {},
   "outputs": [
    {
     "name": "stdout",
     "output_type": "stream",
     "text": [
      "x_train shape is (60000, 28, 28), y_train shape is (60000,)\n",
      "x_test shape is (10000, 28, 28), y_test shape is (10000,)\n",
      "Type of x (image)  train is <class 'numpy.ndarray'>\n",
      "Type of y (labels) train is <class 'numpy.ndarray'>\n",
      "Type of x (image)  test is <class 'numpy.ndarray'>\n",
      "Type of y (labels) test is <class 'numpy.ndarray'>\n"
     ]
    }
   ],
   "source": [
    "# split the dataset into training and testing \n",
    "\n",
    "(x_train, y_train), (x_test, y_test) = mnist.load_data()\n",
    "\n",
    "print(f\"x_train shape is {x_train.shape}, y_train shape is {y_train.shape}\")\n",
    "print(f\"x_test shape is {x_test.shape}, y_test shape is {y_test.shape}\")\n",
    "\n",
    "print(f\"Type of x (image)  train is {type(x_train)}\")\n",
    "print(f\"Type of y (labels) train is {type(x_train)}\")\n",
    "\n",
    "print(f\"Type of x (image)  test is {type(x_test)}\")\n",
    "print(f\"Type of y (labels) test is {type(y_test)}\")\n",
    "\n",
    "# We have 60000 images, each image size is 28*28"
   ]
  },
  {
   "cell_type": "code",
   "execution_count": 7,
   "id": "f62cc48a",
   "metadata": {},
   "outputs": [],
   "source": [
    "# Load the TensorBoard notebook extension\n",
    "%load_ext tensorboard"
   ]
  },
  {
   "cell_type": "code",
   "execution_count": 8,
   "id": "8ab2da02",
   "metadata": {},
   "outputs": [],
   "source": [
    "import datetime"
   ]
  },
  {
   "cell_type": "code",
   "execution_count": 9,
   "id": "e5328fc1",
   "metadata": {},
   "outputs": [],
   "source": [
    "# Normalize: 0,255 -> 0,1\n",
    "# Normalize the images to reduce the noise in training\n",
    "x_train, x_test = x_train / 255.0, x_test / 255.0"
   ]
  },
  {
   "cell_type": "code",
   "execution_count": 10,
   "id": "2b62a2ca",
   "metadata": {},
   "outputs": [
    {
     "name": "stdout",
     "output_type": "stream",
     "text": [
      "Model: \"sequential\"\n",
      "_________________________________________________________________\n",
      " Layer (type)                Output Shape              Param #   \n",
      "=================================================================\n",
      " flatten (Flatten)           (None, 784)               0         \n",
      "                                                                 \n",
      " dense (Dense)               (None, 128)               100480    \n",
      "                                                                 \n",
      " dense_1 (Dense)             (None, 10)                1290      \n",
      "                                                                 \n",
      "=================================================================\n",
      "Total params: 101,770\n",
      "Trainable params: 101,770\n",
      "Non-trainable params: 0\n",
      "_________________________________________________________________\n",
      "None\n"
     ]
    }
   ],
   "source": [
    "# model using keras api\n",
    "model = keras.models.Sequential([\n",
    "    keras.layers.Flatten(input_shape=(28,28)), # Flatten the input images, it will be convered from 2D to 1D\n",
    "    keras.layers.Dense(128, activation='relu'), # Dense layer with relu as activation function (Adding non-linearity to the network)\n",
    "    keras.layers.Dense(10), # Output layer\n",
    "])\n",
    "print(model.summary())"
   ]
  },
  {
   "cell_type": "code",
   "execution_count": 11,
   "id": "e08e8920",
   "metadata": {},
   "outputs": [],
   "source": [
    "# another way to build the Sequential model:\n",
    "#model = keras.models.Sequential()\n",
    "#model.add(keras.layers.Flatten(input_shape=(28,28))\n",
    "#model.add(keras.layers.Dense(128, activation='relu'))\n",
    "#model.add(keras.layers.Dense(10))"
   ]
  },
  {
   "cell_type": "code",
   "execution_count": 12,
   "id": "577755da",
   "metadata": {},
   "outputs": [],
   "source": [
    "# loss and optimizer\n",
    "loss = keras.losses.SparseCategoricalCrossentropy(from_logits=True) # Used for classification problems\n",
    "optim = keras.optimizers.Adam(learning_rate=0.001) # Deifine Adam as optimizer function\n",
    "metrics = [\"accuracy\"] # Add accuracy metric to measure it during training and validation"
   ]
  },
  {
   "cell_type": "code",
   "execution_count": 13,
   "id": "2f9ac359",
   "metadata": {},
   "outputs": [],
   "source": [
    "# Configures the model for training\n",
    "model.compile(loss=loss, optimizer=optim, metrics=metrics)"
   ]
  },
  {
   "cell_type": "code",
   "execution_count": 14,
   "id": "2f96c0d3",
   "metadata": {},
   "outputs": [],
   "source": [
    "# training hyperparameters\n",
    "batch_size = 64\n",
    "epochs = 5"
   ]
  },
  {
   "cell_type": "code",
   "execution_count": 15,
   "id": "7172f74e",
   "metadata": {},
   "outputs": [],
   "source": [
    "# Configure the tensorboard configurations\n",
    "log_dir = \"logs/fit/\" + datetime.datetime.now().strftime(\"%Y%m%d-%H%M%S\")\n",
    "tensorboard_callback = tf.keras.callbacks.TensorBoard(log_dir=log_dir, histogram_freq=1)"
   ]
  },
  {
   "cell_type": "code",
   "execution_count": 16,
   "id": "842acf5f",
   "metadata": {},
   "outputs": [
    {
     "name": "stdout",
     "output_type": "stream",
     "text": [
      "Epoch 1/5\n",
      "938/938 [==============================] - 5s 3ms/step - loss: 0.3007 - accuracy: 0.9148\n",
      "Epoch 2/5\n",
      "938/938 [==============================] - 2s 2ms/step - loss: 0.1368 - accuracy: 0.9601\n",
      "Epoch 3/5\n",
      "938/938 [==============================] - 2s 2ms/step - loss: 0.0958 - accuracy: 0.9725\n",
      "Epoch 4/5\n",
      "938/938 [==============================] - 2s 2ms/step - loss: 0.0721 - accuracy: 0.9789\n",
      "Epoch 5/5\n",
      "938/938 [==============================] - 2s 2ms/step - loss: 0.0566 - accuracy: 0.9834\n"
     ]
    },
    {
     "data": {
      "text/plain": [
       "<keras.callbacks.History at 0x7efce066b400>"
      ]
     },
     "execution_count": 16,
     "metadata": {},
     "output_type": "execute_result"
    }
   ],
   "source": [
    "# Train the model :) \n",
    "model.fit(x_train, y_train, batch_size=batch_size, epochs=epochs, shuffle=True, verbose=1, callbacks=[tensorboard_callback])"
   ]
  },
  {
   "cell_type": "code",
   "execution_count": 17,
   "id": "3bf8588c",
   "metadata": {},
   "outputs": [
    {
     "name": "stdout",
     "output_type": "stream",
     "text": [
      "157/157 [==============================] - 0s 2ms/step - loss: 0.0818 - accuracy: 0.9741\n"
     ]
    },
    {
     "data": {
      "text/plain": [
       "[0.08177682012319565, 0.9740999937057495]"
      ]
     },
     "execution_count": 17,
     "metadata": {},
     "output_type": "execute_result"
    }
   ],
   "source": [
    "# evaulate the model\n",
    "model.evaluate(x_test, y_test, batch_size=batch_size, verbose=1, callbacks=[tensorboard_callback])"
   ]
  },
  {
   "cell_type": "code",
   "execution_count": 18,
   "id": "e5342058",
   "metadata": {},
   "outputs": [
    {
     "data": {
      "text/html": [
       "\n",
       "      <iframe id=\"tensorboard-frame-2ed7a5c1b3a3474c\" width=\"100%\" height=\"800\" frameborder=\"0\">\n",
       "      </iframe>\n",
       "      <script>\n",
       "        (function() {\n",
       "          const frame = document.getElementById(\"tensorboard-frame-2ed7a5c1b3a3474c\");\n",
       "          const url = new URL(\"/\", window.location);\n",
       "          const port = 6006;\n",
       "          if (port) {\n",
       "            url.port = port;\n",
       "          }\n",
       "          frame.src = url;\n",
       "        })();\n",
       "      </script>\n",
       "    "
      ],
      "text/plain": [
       "<IPython.core.display.HTML object>"
      ]
     },
     "metadata": {},
     "output_type": "display_data"
    }
   ],
   "source": [
    "# Load the tensorboard inside the notebook\n",
    "%tensorboard --logdir logs/fit"
   ]
  },
  {
   "cell_type": "code",
   "execution_count": 19,
   "id": "9f7f5e02",
   "metadata": {},
   "outputs": [
    {
     "name": "stdout",
     "output_type": "stream",
     "text": [
      "tf.Tensor(\n",
      "[3.08527910e-06 2.50741834e-07 1.14193674e-04 1.94106752e-03\n",
      " 4.43793802e-09 6.74565513e-07 1.52492671e-10 9.97883260e-01\n",
      " 5.15430520e-06 5.23323033e-05], shape=(10,), dtype=float32)\n",
      "The type of pred0 is <class 'tensorflow.python.framework.ops.EagerTensor'>\n",
      "The predicted class is 7\n"
     ]
    }
   ],
   "source": [
    "# predictions\n",
    "\n",
    "# 1. option: build new model with Softmax layer\n",
    "probability_model = keras.models.Sequential([\n",
    "    model,\n",
    "    keras.layers.Softmax()\n",
    "])\n",
    "\n",
    "predictions = probability_model(x_test)\n",
    "#import pdb; pdb.set_trace()\n",
    "# Print sample from the output, tensor for 10 values, probabilities for our classes(numbers from 0 to 10)\n",
    "pred0 = predictions[0]\n",
    "print(pred0)\n",
    "\n",
    "# use np.argmax to get label with highest probability\n",
    "print(f\"The type of pred0 is {type(pred0)}\")\n",
    "label0 = np.argmax(pred0, axis=0) # Returns the indices of the maximum values along an axis.\n",
    "print(f\"The predicted class is {label0}\")"
   ]
  },
  {
   "cell_type": "code",
   "execution_count": 20,
   "id": "2a2cb99b",
   "metadata": {},
   "outputs": [
    {
     "name": "stdout",
     "output_type": "stream",
     "text": [
      "Shape:  (28, 28)\n",
      "Label:  7\n"
     ]
    }
   ],
   "source": [
    "print(\"Shape: \", x_test[0].shape)\n",
    "print(\"Label: \", y_test[0])\n",
    "\n",
    "\n",
    "# Using the file writer, log the reshaped image.\n",
    "logdir = \"logs/fit/\" + datetime.datetime.now().strftime(\"%Y%m%d-%H%M%S\")\n",
    "file_writer = tf.summary.create_file_writer(logdir)\n",
    "\n",
    "# Reshpae the image to show it inside tensorboard\n",
    "img = np.reshape(x_test[0], (-1, 28, 28, 1))\n",
    "\n",
    "with file_writer.as_default():\n",
    "    tf.summary.image(\"Test image\", img, step=0)"
   ]
  },
  {
   "cell_type": "code",
   "execution_count": 21,
   "id": "feba4023",
   "metadata": {},
   "outputs": [
    {
     "data": {
      "text/plain": [
       "Reusing TensorBoard on port 6006 (pid 27029), started 0:00:00 ago. (Use '!kill 27029' to kill it.)"
      ]
     },
     "metadata": {},
     "output_type": "display_data"
    },
    {
     "data": {
      "text/html": [
       "\n",
       "      <iframe id=\"tensorboard-frame-4ae3a4ad6c2112e0\" width=\"100%\" height=\"800\" frameborder=\"0\">\n",
       "      </iframe>\n",
       "      <script>\n",
       "        (function() {\n",
       "          const frame = document.getElementById(\"tensorboard-frame-4ae3a4ad6c2112e0\");\n",
       "          const url = new URL(\"/\", window.location);\n",
       "          const port = 6006;\n",
       "          if (port) {\n",
       "            url.port = port;\n",
       "          }\n",
       "          frame.src = url;\n",
       "        })();\n",
       "      </script>\n",
       "    "
      ],
      "text/plain": [
       "<IPython.core.display.HTML object>"
      ]
     },
     "metadata": {},
     "output_type": "display_data"
    }
   ],
   "source": [
    "%tensorboard --logdir logs/fit"
   ]
  },
  {
   "cell_type": "code",
   "execution_count": 23,
   "id": "dbdbb7cf",
   "metadata": {},
   "outputs": [
    {
     "name": "stdout",
     "output_type": "stream",
     "text": [
      "Probabilites values ->  tf.Tensor(\n",
      "[3.08527910e-06 2.50741834e-07 1.14193674e-04 1.94106752e-03\n",
      " 4.43793802e-09 6.74565513e-07 1.52492671e-10 9.97883260e-01\n",
      " 5.15430520e-06 5.23323033e-05], shape=(10,), dtype=float32)\n",
      "The predicted class is 7\n"
     ]
    }
   ],
   "source": [
    "# 2. option: original model + nn.softmax, call model(x)\n",
    "predictions = model(x_test)\n",
    "predictions = tf.nn.softmax(predictions)\n",
    "pred0 = predictions[0]\n",
    "print(f\"Probabilites values -> \", pred0)\n",
    "\n",
    "label0 = np.argmax(pred0)\n",
    "print(f\"The predicted class is {label0}\")\n"
   ]
  },
  {
   "cell_type": "code",
   "execution_count": 24,
   "id": "95cf6c84",
   "metadata": {},
   "outputs": [
    {
     "name": "stdout",
     "output_type": "stream",
     "text": [
      "Probabilites values ->  tf.Tensor(\n",
      "[3.08527910e-06 2.50741834e-07 1.14193674e-04 1.94106752e-03\n",
      " 4.43793802e-09 6.74565513e-07 1.52492671e-10 9.97883260e-01\n",
      " 5.15430520e-06 5.23323033e-05], shape=(10,), dtype=float32)\n",
      "The predicted class is 7\n",
      "The shape for the output is (5, 10)\n",
      "The predicted classes are [7 2 1 0 4]\n"
     ]
    }
   ],
   "source": [
    "# 3. option: original model + nn.softmax, call model.predict(x)\n",
    "predictions = model.predict(x_test, batch_size=batch_size)\n",
    "predictions = tf.nn.softmax(predictions)\n",
    "pred0 = predictions[0]\n",
    "print(f\"Probabilites values -> \", pred0)\n",
    "label0 = np.argmax(pred0)\n",
    "print(f\"The predicted class is {label0}\")\n",
    "\n",
    "# call argmax for multiple labels\n",
    "pred05s = predictions[0:5]\n",
    "print(f\"The shape for the output is {pred05s.shape}\")\n",
    "label05s = np.argmax(pred05s, axis=1) # axis 1 means for rows\n",
    "print(f\"The predicted classes are {label05s}\")"
   ]
  }
 ],
 "metadata": {
  "kernelspec": {
   "display_name": "Python 3 (ipykernel)",
   "language": "python",
   "name": "python3"
  },
  "language_info": {
   "codemirror_mode": {
    "name": "ipython",
    "version": 3
   },
   "file_extension": ".py",
   "mimetype": "text/x-python",
   "name": "python",
   "nbconvert_exporter": "python",
   "pygments_lexer": "ipython3",
   "version": "3.8.10"
  },
  "toc": {
   "base_numbering": 1,
   "nav_menu": {},
   "number_sections": false,
   "sideBar": true,
   "skip_h1_title": false,
   "title_cell": "Table of Contents",
   "title_sidebar": "Contents",
   "toc_cell": false,
   "toc_position": {},
   "toc_section_display": true,
   "toc_window_display": false
  }
 },
 "nbformat": 4,
 "nbformat_minor": 5
}
